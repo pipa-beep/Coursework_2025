{
 "cells": [
  {
   "cell_type": "markdown",
   "metadata": {},
   "source": [
    "# 1. Introduction"
   ]
  },
  {
   "cell_type": "markdown",
   "metadata": {},
   "source": [
    "Briefly describe the recommendation task, the Neural Matrix Factorization approach,\n",
    "and list the datasets: interactions_new, tracks, catalog_names.\n",
    "-->\n",
    "In this notebook, we implement a Neural Matrix Factorization (NeuMF) recommendation algorithm using PyTorch.  \n",
    "We will work with three datasets:  \n",
    "- **interactions_new**: user–track interaction logs  \n",
    "- **tracks**: metadata about tracks (albums, artists, genres)  \n",
    "- **catalog_names**: mapping of album/artist/genre names  \n",
    "\n",
    "The goal is to build and evaluate a NeuMF model for implicit feedback."
   ]
  },
  {
   "cell_type": "markdown",
   "metadata": {},
   "source": [
    "# 2. Imports and Settings"
   ]
  },
  {
   "cell_type": "code",
   "execution_count": 1,
   "metadata": {},
   "outputs": [],
   "source": [
    "import random\n",
    "import numpy as np\n",
    "import pandas as pd\n",
    "import torch\n",
    "import torch.nn as nn\n",
    "import torch.optim as optim\n",
    "from torch.utils.data import Dataset, DataLoader\n",
    "import matplotlib.pyplot as plt"
   ]
  },
  {
   "cell_type": "markdown",
   "metadata": {},
   "source": [
    "# 3. Datasets loading"
   ]
  },
  {
   "cell_type": "code",
   "execution_count": 2,
   "metadata": {},
   "outputs": [],
   "source": [
    "interactions = pd.read_parquet(\"interactions_new.parquet\")\n",
    "tracks = pd.read_parquet(\"tracks.parquet\")\n",
    "catalog = pd.read_parquet(\"catalog_names.parquet\")"
   ]
  },
  {
   "cell_type": "code",
   "execution_count": 3,
   "metadata": {},
   "outputs": [
    {
     "name": "stdout",
     "output_type": "stream",
     "text": [
      "Interactions: 200000 rows\n",
      "Tracks:       1000000 rows\n",
      "Catalog:      1812471 rows\n"
     ]
    }
   ],
   "source": [
    "print(f\"Interactions: {len(interactions)} rows\")\n",
    "print(f\"Tracks:       {len(tracks)} rows\")\n",
    "print(f\"Catalog:      {len(catalog)} rows\")"
   ]
  },
  {
   "cell_type": "code",
   "execution_count": 4,
   "metadata": {},
   "outputs": [
    {
     "data": {
      "text/html": [
       "<div>\n",
       "<style scoped>\n",
       "    .dataframe tbody tr th:only-of-type {\n",
       "        vertical-align: middle;\n",
       "    }\n",
       "\n",
       "    .dataframe tbody tr th {\n",
       "        vertical-align: top;\n",
       "    }\n",
       "\n",
       "    .dataframe thead th {\n",
       "        text-align: right;\n",
       "    }\n",
       "</style>\n",
       "<table border=\"1\" class=\"dataframe\">\n",
       "  <thead>\n",
       "    <tr style=\"text-align: right;\">\n",
       "      <th></th>\n",
       "      <th>user_id</th>\n",
       "      <th>track_id</th>\n",
       "      <th>track_seq</th>\n",
       "      <th>started_at</th>\n",
       "    </tr>\n",
       "  </thead>\n",
       "  <tbody>\n",
       "    <tr>\n",
       "      <th>9</th>\n",
       "      <td>1147</td>\n",
       "      <td>60164742</td>\n",
       "      <td>10</td>\n",
       "      <td>2022-12-10</td>\n",
       "    </tr>\n",
       "    <tr>\n",
       "      <th>10</th>\n",
       "      <td>1147</td>\n",
       "      <td>60441330</td>\n",
       "      <td>11</td>\n",
       "      <td>2022-12-13</td>\n",
       "    </tr>\n",
       "    <tr>\n",
       "      <th>11</th>\n",
       "      <td>1147</td>\n",
       "      <td>60715380</td>\n",
       "      <td>12</td>\n",
       "      <td>2022-12-19</td>\n",
       "    </tr>\n",
       "    <tr>\n",
       "      <th>12</th>\n",
       "      <td>1147</td>\n",
       "      <td>61693507</td>\n",
       "      <td>13</td>\n",
       "      <td>2022-12-21</td>\n",
       "    </tr>\n",
       "    <tr>\n",
       "      <th>13</th>\n",
       "      <td>1147</td>\n",
       "      <td>61835292</td>\n",
       "      <td>14</td>\n",
       "      <td>2022-12-21</td>\n",
       "    </tr>\n",
       "  </tbody>\n",
       "</table>\n",
       "</div>"
      ],
      "text/plain": [
       "    user_id  track_id  track_seq started_at\n",
       "9      1147  60164742         10 2022-12-10\n",
       "10     1147  60441330         11 2022-12-13\n",
       "11     1147  60715380         12 2022-12-19\n",
       "12     1147  61693507         13 2022-12-21\n",
       "13     1147  61835292         14 2022-12-21"
      ]
     },
     "execution_count": 4,
     "metadata": {},
     "output_type": "execute_result"
    }
   ],
   "source": [
    "interactions.tail()"
   ]
  },
  {
   "cell_type": "code",
   "execution_count": 5,
   "metadata": {},
   "outputs": [
    {
     "data": {
      "text/html": [
       "<div>\n",
       "<style scoped>\n",
       "    .dataframe tbody tr th:only-of-type {\n",
       "        vertical-align: middle;\n",
       "    }\n",
       "\n",
       "    .dataframe tbody tr th {\n",
       "        vertical-align: top;\n",
       "    }\n",
       "\n",
       "    .dataframe thead th {\n",
       "        text-align: right;\n",
       "    }\n",
       "</style>\n",
       "<table border=\"1\" class=\"dataframe\">\n",
       "  <thead>\n",
       "    <tr style=\"text-align: right;\">\n",
       "      <th></th>\n",
       "      <th>track_id</th>\n",
       "      <th>albums</th>\n",
       "      <th>artists</th>\n",
       "      <th>genres</th>\n",
       "    </tr>\n",
       "  </thead>\n",
       "  <tbody>\n",
       "    <tr>\n",
       "      <th>0</th>\n",
       "      <td>26</td>\n",
       "      <td>[3, 2490753]</td>\n",
       "      <td>[16]</td>\n",
       "      <td>[11, 21]</td>\n",
       "    </tr>\n",
       "    <tr>\n",
       "      <th>1</th>\n",
       "      <td>38</td>\n",
       "      <td>[3, 2490753]</td>\n",
       "      <td>[16]</td>\n",
       "      <td>[11, 21]</td>\n",
       "    </tr>\n",
       "    <tr>\n",
       "      <th>2</th>\n",
       "      <td>135</td>\n",
       "      <td>[12, 214, 2490809]</td>\n",
       "      <td>[84]</td>\n",
       "      <td>[11]</td>\n",
       "    </tr>\n",
       "    <tr>\n",
       "      <th>3</th>\n",
       "      <td>136</td>\n",
       "      <td>[12, 214, 2490809]</td>\n",
       "      <td>[84]</td>\n",
       "      <td>[11]</td>\n",
       "    </tr>\n",
       "    <tr>\n",
       "      <th>4</th>\n",
       "      <td>138</td>\n",
       "      <td>[12, 214, 322, 72275, 72292, 91199, 213505, 24...</td>\n",
       "      <td>[84]</td>\n",
       "      <td>[11]</td>\n",
       "    </tr>\n",
       "  </tbody>\n",
       "</table>\n",
       "</div>"
      ],
      "text/plain": [
       "   track_id                                             albums artists  \\\n",
       "0        26                                       [3, 2490753]    [16]   \n",
       "1        38                                       [3, 2490753]    [16]   \n",
       "2       135                                 [12, 214, 2490809]    [84]   \n",
       "3       136                                 [12, 214, 2490809]    [84]   \n",
       "4       138  [12, 214, 322, 72275, 72292, 91199, 213505, 24...    [84]   \n",
       "\n",
       "     genres  \n",
       "0  [11, 21]  \n",
       "1  [11, 21]  \n",
       "2      [11]  \n",
       "3      [11]  \n",
       "4      [11]  "
      ]
     },
     "execution_count": 5,
     "metadata": {},
     "output_type": "execute_result"
    }
   ],
   "source": [
    "tracks.head()"
   ]
  },
  {
   "cell_type": "code",
   "execution_count": 6,
   "metadata": {},
   "outputs": [
    {
     "data": {
      "text/html": [
       "<div>\n",
       "<style scoped>\n",
       "    .dataframe tbody tr th:only-of-type {\n",
       "        vertical-align: middle;\n",
       "    }\n",
       "\n",
       "    .dataframe tbody tr th {\n",
       "        vertical-align: top;\n",
       "    }\n",
       "\n",
       "    .dataframe thead th {\n",
       "        text-align: right;\n",
       "    }\n",
       "</style>\n",
       "<table border=\"1\" class=\"dataframe\">\n",
       "  <thead>\n",
       "    <tr style=\"text-align: right;\">\n",
       "      <th></th>\n",
       "      <th>id</th>\n",
       "      <th>type</th>\n",
       "      <th>name</th>\n",
       "    </tr>\n",
       "  </thead>\n",
       "  <tbody>\n",
       "    <tr>\n",
       "      <th>0</th>\n",
       "      <td>3</td>\n",
       "      <td>album</td>\n",
       "      <td>Taller Children</td>\n",
       "    </tr>\n",
       "    <tr>\n",
       "      <th>1</th>\n",
       "      <td>12</td>\n",
       "      <td>album</td>\n",
       "      <td>Wild Young Hearts</td>\n",
       "    </tr>\n",
       "    <tr>\n",
       "      <th>2</th>\n",
       "      <td>13</td>\n",
       "      <td>album</td>\n",
       "      <td>Lonesome Crow</td>\n",
       "    </tr>\n",
       "    <tr>\n",
       "      <th>3</th>\n",
       "      <td>17</td>\n",
       "      <td>album</td>\n",
       "      <td>Graffiti Soul</td>\n",
       "    </tr>\n",
       "    <tr>\n",
       "      <th>4</th>\n",
       "      <td>26</td>\n",
       "      <td>album</td>\n",
       "      <td>Blues Six Pack</td>\n",
       "    </tr>\n",
       "  </tbody>\n",
       "</table>\n",
       "</div>"
      ],
      "text/plain": [
       "   id   type               name\n",
       "0   3  album    Taller Children\n",
       "1  12  album  Wild Young Hearts\n",
       "2  13  album      Lonesome Crow\n",
       "3  17  album      Graffiti Soul\n",
       "4  26  album     Blues Six Pack"
      ]
     },
     "execution_count": 6,
     "metadata": {},
     "output_type": "execute_result"
    }
   ],
   "source": [
    "catalog.head()"
   ]
  },
  {
   "cell_type": "code",
   "execution_count": 7,
   "metadata": {},
   "outputs": [
    {
     "name": "stdout",
     "output_type": "stream",
     "text": [
      "\n",
      "Missing values per column in interactions_new:\n",
      "user_id       0\n",
      "track_id      0\n",
      "track_seq     0\n",
      "started_at    0\n",
      "dtype: int64\n",
      "\n",
      "Missing values per column in tracks:\n",
      "track_id    0\n",
      "albums      0\n",
      "artists     0\n",
      "genres      0\n",
      "dtype: int64\n",
      "\n",
      "Missing values per column in catalog_names:\n",
      "id      0\n",
      "type    0\n",
      "name    0\n",
      "dtype: int64\n"
     ]
    }
   ],
   "source": [
    "print(\"\\nMissing values per column in interactions_new:\")\n",
    "print(interactions.isnull().sum())\n",
    "print(\"\\nMissing values per column in tracks:\")\n",
    "print(tracks.isnull().sum())\n",
    "print(\"\\nMissing values per column in catalog_names:\")\n",
    "print(catalog.isnull().sum())"
   ]
  },
  {
   "cell_type": "markdown",
   "metadata": {},
   "source": [
    "# 4. Data manipualtions"
   ]
  },
  {
   "cell_type": "code",
   "execution_count": 8,
   "metadata": {},
   "outputs": [],
   "source": [
    "# 2) Map raw IDs to contiguous indices\n",
    "unique_users = interactions['user_id'].unique()\n",
    "unique_items = interactions['track_id'].unique()\n",
    "user2idx = {u: i for i, u in enumerate(unique_users)}\n",
    "item2idx = {i: j for j, i in enumerate(unique_items)}\n",
    "\n",
    "interactions['user_idx'] = interactions['user_id'].map(user2idx)\n",
    "interactions['item_idx'] = interactions['track_id'].map(item2idx)"
   ]
  },
  {
   "cell_type": "code",
   "execution_count": 9,
   "metadata": {},
   "outputs": [],
   "source": [
    "# 3) Ensure datetime sorting\n",
    "interactions['started_at'] = pd.to_datetime(interactions['started_at'])\n",
    "interactions = interactions.sort_values(['user_idx', 'started_at'])"
   ]
  },
  {
   "cell_type": "code",
   "execution_count": 10,
   "metadata": {},
   "outputs": [
    {
     "name": "stdout",
     "output_type": "stream",
     "text": [
      "Train interactions: 198855, Validation interactions: 1145\n"
     ]
    }
   ],
   "source": [
    "# 4) Split train / validation: last interaction per user → val\n",
    "is_last = ~interactions.duplicated(subset=['user_idx'], keep='last')\n",
    "val_df   = interactions[ is_last].reset_index(drop=True)\n",
    "train_df = interactions[~is_last].reset_index(drop=True)\n",
    "print(f\"Train interactions: {len(train_df)}, Validation interactions: {len(val_df)}\")"
   ]
  },
  {
   "cell_type": "markdown",
   "metadata": {},
   "source": [
    "# 5. Negative sampling on train set"
   ]
  },
  {
   "cell_type": "code",
   "execution_count": 11,
   "metadata": {},
   "outputs": [],
   "source": [
    "\n",
    "def negative_sampling(df, n_items, neg_rate=4, seed=42):\n",
    "    rng = np.random.RandomState(seed)\n",
    "    user_pos = df.groupby('user_idx')['item_idx'].agg(set).to_dict()\n",
    "    users, items, labels = [], [], []\n",
    "    for u, pos in user_pos.items():\n",
    "        # positives\n",
    "        for i in pos:\n",
    "            users.append(u); items.append(i); labels.append(1)\n",
    "        # negatives\n",
    "        n_neg = len(pos) * neg_rate\n",
    "        negs = set()\n",
    "        while len(negs) < n_neg:\n",
    "            cand = rng.randint(0, n_items, size=n_neg - len(negs))\n",
    "            negs.update(set(cand) - pos)\n",
    "        for i in negs:\n",
    "            users.append(u); items.append(i); labels.append(0)\n",
    "    return pd.DataFrame({'user_idx': users, 'item_idx': items, 'label': labels})\n",
    "\n",
    "num_users = len(user2idx)\n",
    "num_items = len(item2idx)\n",
    "train_samples = negative_sampling(train_df, num_items, neg_rate=4)"
   ]
  },
  {
   "cell_type": "markdown",
   "metadata": {},
   "source": [
    "# 6. Dataset & DataLoader"
   ]
  },
  {
   "cell_type": "code",
   "execution_count": 12,
   "metadata": {},
   "outputs": [],
   "source": [
    "class InteractionDataset(Dataset):\n",
    "    def __init__(self, samples_df):\n",
    "        self.users = samples_df['user_idx'].values.astype(np.int64)\n",
    "        self.items = samples_df['item_idx'].values.astype(np.int64)\n",
    "        self.labels = samples_df['label'].values.astype(np.float32)\n",
    "    def __len__(self):\n",
    "        return len(self.labels)\n",
    "    def __getitem__(self, idx):\n",
    "        return {\n",
    "            'user': self.users[idx],\n",
    "            'item': self.items[idx],\n",
    "            'label': self.labels[idx]\n",
    "        }\n",
    "\n",
    "batch_size = 1024\n",
    "train_ds = InteractionDataset(train_samples)\n",
    "train_loader = DataLoader(train_ds, batch_size=batch_size, shuffle=True, num_workers=0,\n",
    "                          pin_memory=torch.cuda.is_available())"
   ]
  },
  {
   "cell_type": "markdown",
   "metadata": {},
   "source": [
    "# 7. Final NMF model"
   ]
  },
  {
   "cell_type": "code",
   "execution_count": 13,
   "metadata": {},
   "outputs": [],
   "source": [
    "class NeuralMFEnhanced(nn.Module):\n",
    "    def __init__(self, n_users, n_items, emb_size=64, layers=[128,64,32,16], dropout=0.3):\n",
    "        super().__init__()\n",
    "        # GMF embeddings + biases\n",
    "        self.u_gmf = nn.Embedding(n_users, emb_size)\n",
    "        self.i_gmf = nn.Embedding(n_items, emb_size)\n",
    "        self.u_bias = nn.Embedding(n_users, 1)\n",
    "        self.i_bias = nn.Embedding(n_items, 1)\n",
    "        # MLP embeddings\n",
    "        self.u_mlp = nn.Embedding(n_users, emb_size)\n",
    "        self.i_mlp = nn.Embedding(n_items, emb_size)\n",
    "        \n",
    "        # build deep MLP with BatchNorm and residuals\n",
    "        mlp_modules = []\n",
    "        input_dim = emb_size * 2\n",
    "        for h in layers:\n",
    "            mlp_modules += [\n",
    "                nn.Linear(input_dim, h, bias=False),\n",
    "                nn.BatchNorm1d(h),\n",
    "                nn.ReLU(),\n",
    "                nn.Dropout(dropout)\n",
    "            ]\n",
    "            input_dim = h\n",
    "        self.mlp = nn.Sequential(*mlp_modules)\n",
    "        \n",
    "        # final prediction layer\n",
    "        self.predict = nn.Linear(emb_size + layers[-1], 1)\n",
    "        \n",
    "        # initialization\n",
    "        for emb in [self.u_gmf, self.i_gmf, self.u_mlp, self.i_mlp]:\n",
    "            nn.init.normal_(emb.weight, 0, 0.01)\n",
    "        nn.init.zeros_(self.u_bias.weight)\n",
    "        nn.init.zeros_(self.i_bias.weight)\n",
    "        for m in self.mlp:\n",
    "            if isinstance(m, nn.Linear):\n",
    "                nn.init.xavier_uniform_(m.weight)\n",
    "\n",
    "    def forward(self, users, items):\n",
    "        # GMF\n",
    "        gmf_out = self.u_gmf(users) * self.i_gmf(items)\n",
    "        # MLP\n",
    "        x = torch.cat([self.u_mlp(users), self.i_mlp(items)], dim=1)\n",
    "        mlp_out = self.mlp(x)\n",
    "        # combining\n",
    "        feat = torch.cat([gmf_out, mlp_out], dim=1)\n",
    "        score = self.predict(feat).squeeze(1)\n",
    "        # biases\n",
    "        score = score + self.u_bias(users).squeeze(1) + self.i_bias(items).squeeze(1)\n",
    "        return score"
   ]
  },
  {
   "cell_type": "markdown",
   "metadata": {},
   "source": [
    "# 8. Inizialization and trainig"
   ]
  },
  {
   "cell_type": "code",
   "execution_count": 14,
   "metadata": {},
   "outputs": [],
   "source": [
    "device = torch.device('cuda' if torch.cuda.is_available() else 'cpu')\n",
    "model = NeuralMFEnhanced(num_users, num_items).to(device)\n",
    "optimizer = optim.Adam(model.parameters(), lr=1e-3, weight_decay=1e-5)\n",
    "criterion = nn.BCEWithLogitsLoss()"
   ]
  },
  {
   "cell_type": "code",
   "execution_count": 15,
   "metadata": {},
   "outputs": [
    {
     "name": "stdout",
     "output_type": "stream",
     "text": [
      "Epoch 1/30, Loss: 0.5006\n",
      "Epoch 2/30, Loss: 0.4536\n",
      "Epoch 3/30, Loss: 0.4321\n",
      "Epoch 4/30, Loss: 0.3888\n",
      "Epoch 5/30, Loss: 0.3267\n",
      "Epoch 6/30, Loss: 0.2734\n",
      "Epoch 7/30, Loss: 0.2334\n",
      "Epoch 8/30, Loss: 0.2040\n",
      "Epoch 9/30, Loss: 0.1829\n",
      "Epoch 10/30, Loss: 0.1659\n",
      "Epoch 11/30, Loss: 0.1541\n",
      "Epoch 12/30, Loss: 0.1455\n",
      "Epoch 13/30, Loss: 0.1366\n",
      "Epoch 14/30, Loss: 0.1308\n",
      "Epoch 15/30, Loss: 0.1259\n",
      "Epoch 16/30, Loss: 0.1213\n",
      "Epoch 17/30, Loss: 0.1171\n",
      "Epoch 18/30, Loss: 0.1136\n",
      "Epoch 19/30, Loss: 0.1106\n",
      "Epoch 20/30, Loss: 0.1085\n",
      "Epoch 21/30, Loss: 0.1049\n",
      "Epoch 22/30, Loss: 0.1044\n",
      "Epoch 23/30, Loss: 0.1026\n",
      "Epoch 24/30, Loss: 0.1008\n",
      "Epoch 25/30, Loss: 0.0981\n",
      "Epoch 26/30, Loss: 0.0965\n",
      "Epoch 27/30, Loss: 0.0963\n",
      "Epoch 28/30, Loss: 0.0944\n",
      "Epoch 29/30, Loss: 0.0925\n",
      "Epoch 30/30, Loss: 0.0925\n"
     ]
    }
   ],
   "source": [
    "num_epochs = 30\n",
    "loss_history = []\n",
    "\n",
    "for epoch in range(1, num_epochs + 1):\n",
    "    model.train()\n",
    "    total_loss = 0.0\n",
    "    for batch in train_loader:\n",
    "        users = batch['user'].to(device)\n",
    "        items = batch['item'].to(device)\n",
    "        labels = batch['label'].to(device)\n",
    "        \n",
    "        optimizer.zero_grad()\n",
    "        logits = model(users, items)       # forward pass\n",
    "        loss = criterion(logits, labels)   # BCE loss\n",
    "        loss.backward()                    # backprop\n",
    "        optimizer.step()                   # update weights\n",
    "        \n",
    "        total_loss += loss.item() * users.size(0)\n",
    "    \n",
    "    avg_loss = total_loss / len(train_ds)\n",
    "    loss_history.append(avg_loss)\n",
    "    print(f\"Epoch {epoch}/{num_epochs}, Loss: {avg_loss:.4f}\")\n",
    "\n"
   ]
  },
  {
   "cell_type": "markdown",
   "metadata": {},
   "source": [
    "# 9. Visualize training loss"
   ]
  },
  {
   "cell_type": "code",
   "execution_count": 16,
   "metadata": {},
   "outputs": [
    {
     "data": {
      "image/png": "[encoded data removed]",
      "text/plain": [
       "<Figure size 800x500 with 1 Axes>"
      ]
     },
     "metadata": {},
     "output_type": "display_data"
    }
   ],
   "source": [
    "plt.figure(figsize=(8, 5))\n",
    "plt.plot(range(1, num_epochs + 1), loss_history)\n",
    "plt.title('Training Loss over Epochs (Enhanced Model)')\n",
    "plt.xlabel('Epoch')\n",
    "plt.ylabel('BCEWithLogitsLoss')\n",
    "plt.xticks(range(1, num_epochs + 1))\n",
    "plt.grid(True)\n",
    "plt.show()"
   ]
  },
  {
   "cell_type": "markdown",
   "metadata": {},
   "source": [
    "# 10. Evaluation Metrics\n",
    "\n",
    "precision@K, recall@K, MAP@K, F1@K and NDCG@K."
   ]
  },
  {
   "cell_type": "code",
   "execution_count": 17,
   "metadata": {},
   "outputs": [],
   "source": [
    "def recall_at_k_candidates(model, val_df, train_df, k=10, candidates_count=5000, device='cpu'):\n",
    "    \"\"\"\n",
    "    Compute Recall@k over a reduced candidate set:\n",
    "      1) take top-N popular items from train_df\n",
    "      2) for each user in val_df score only these candidates (+true item if missing)\n",
    "      3) compute Recall@k\n",
    "    \"\"\"\n",
    "    popular = train_df['item_idx'].value_counts().head(candidates_count).index.tolist()\n",
    "    popular_set = set(popular)\n",
    "    \n",
    "    model.eval()\n",
    "    hits = 0\n",
    "    n_users = len(val_df)\n",
    "    \n",
    "    for _, row in val_df.iterrows():\n",
    "        u = row['user_idx']\n",
    "        true_i = row['item_idx']\n",
    "        \n",
    "        if true_i in popular_set:\n",
    "            cands = popular\n",
    "        else:\n",
    "            cands = popular[:-1] + [true_i]\n",
    "        \n",
    "        users = torch.full((len(cands),), u, dtype=torch.long, device=device)\n",
    "        items = torch.tensor(cands, dtype=torch.long, device=device)\n",
    "        with torch.no_grad():\n",
    "            scores = model(users, items)\n",
    "        \n",
    "        topk_idx = torch.topk(scores, k).indices.cpu().numpy()\n",
    "        topk_items = [cands[i] for i in topk_idx]\n",
    "        if true_i in topk_items:\n",
    "            hits += 1\n",
    "    \n",
    "    recall = hits / n_users\n",
    "    print(f\"Recall@{k} over {candidates_count} candidates: {recall:.4f} ({hits}/{n_users})\")\n",
    "    return recall\n",
    "\n",
    "\n",
    "\n",
    "def precision_at_k_candidates(model, val_df, train_df, k=10, candidates_count=5000, device='cpu'):\n",
    "    popular = train_df['item_idx'].value_counts().head(candidates_count).index.tolist()\n",
    "    popular_set = set(popular)\n",
    "\n",
    "    model.eval()\n",
    "    prec_sum = 0.0\n",
    "    n_users = len(val_df)\n",
    "\n",
    "    for _, row in val_df.iterrows():\n",
    "        u, true_i = row['user_idx'], row['item_idx']\n",
    "        cands = popular if true_i in popular_set else popular[:-1] + [true_i]\n",
    "\n",
    "        users = torch.full((len(cands),), u, dtype=torch.long, device=device)\n",
    "        items = torch.tensor(cands, dtype=torch.long, device=device)\n",
    "        with torch.no_grad():\n",
    "            scores = model(users, items)\n",
    "\n",
    "        topk = torch.topk(scores, k).indices.cpu().numpy()\n",
    "        hit = 1 if true_i in [cands[i] for i in topk] else 0\n",
    "        prec_sum += hit / k\n",
    "\n",
    "    return prec_sum / n_users\n",
    "\n",
    "\n",
    "def mrr_at_k_candidates(model, val_df, train_df, k=10, candidates_count=5000, device='cpu'):\n",
    "    popular = train_df['item_idx'].value_counts().head(candidates_count).index.tolist()\n",
    "    popular_set = set(popular)\n",
    "\n",
    "    model.eval()\n",
    "    rr_sum = 0.0\n",
    "    n_users = len(val_df)\n",
    "\n",
    "    for _, row in val_df.iterrows():\n",
    "        u, true_i = row['user_idx'], row['item_idx']\n",
    "        cands = popular if true_i in popular_set else popular[:-1] + [true_i]\n",
    "\n",
    "        users = torch.full((len(cands),), u, dtype=torch.long, device=device)\n",
    "        items = torch.tensor(cands, dtype=torch.long, device=device)\n",
    "        with torch.no_grad():\n",
    "            scores = model(users, items)\n",
    "\n",
    "        ranks = torch.argsort(scores, descending=True).cpu().numpy()\n",
    "        topk = ranks[:k]\n",
    "        pos = np.where(topk == cands.index(true_i))[0]\n",
    "        if pos.size > 0:\n",
    "            rr_sum += 1.0 / (pos[0] + 1)\n",
    "\n",
    "    return rr_sum / n_users\n",
    "\n",
    "\n",
    "def ndcg_at_k_candidates(model, val_df, train_df, k=10, candidates_count=5000, device='cpu'):\n",
    "    popular = train_df['item_idx'].value_counts().head(candidates_count).index.tolist()\n",
    "    popular_set = set(popular)\n",
    "\n",
    "    model.eval()\n",
    "    ndcg_sum = 0.0\n",
    "    n_users = len(val_df)\n",
    "\n",
    "    for _, row in val_df.iterrows():\n",
    "        u, true_i = row['user_idx'], row['item_idx']\n",
    "        cands = popular if true_i in popular_set else popular[:-1] + [true_i]\n",
    "\n",
    "        users = torch.full((len(cands),), u, dtype=torch.long, device=device)\n",
    "        items = torch.tensor(cands, dtype=torch.long, device=device)\n",
    "        with torch.no_grad():\n",
    "            scores = model(users, items)\n",
    "\n",
    "        topk = torch.topk(scores, k).indices.cpu().numpy()\n",
    "        # если есть\n",
    "        if true_i in [cands[i] for i in topk]:\n",
    "            rank = np.where(topk == cands.index(true_i))[0][0] + 1\n",
    "            ndcg_sum += 1.0 / np.log2(rank + 1)\n",
    "\n",
    "    return ndcg_sum / n_users\n"
   ]
  },
  {
   "cell_type": "code",
   "execution_count": 18,
   "metadata": {},
   "outputs": [
    {
     "name": "stdout",
     "output_type": "stream",
     "text": [
      "Recall@10 over 5000 candidates: 0.0035 (4/1145)\n",
      "Recall@10 (5000 cands):    0.0035\n",
      "Precision@10 (5000 cands): 0.0003\n",
      "MRR@10 (5000 cands):       0.0005\n",
      "NDCG@10 (5000 cands):      0.0012\n"
     ]
    }
   ],
   "source": [
    "device = torch.device('cuda' if torch.cuda.is_available() else 'cpu')\n",
    "\n",
    "recall_cand   = recall_at_k_candidates(model, val_df, train_df, k=10, candidates_count=5000, device=device)\n",
    "precision_cand= precision_at_k_candidates(model, val_df, train_df, k=10, candidates_count=5000, device=device)\n",
    "mrr_cand      = mrr_at_k_candidates(model, val_df, train_df, k=10, candidates_count=5000, device=device)\n",
    "ndcg_cand     = ndcg_at_k_candidates(model, val_df, train_df, k=10, candidates_count=5000, device=device)\n",
    "\n",
    "print(f\"Recall@10 (5000 cands):    {recall_cand:.4f}\")\n",
    "print(f\"Precision@10 (5000 cands): {precision_cand:.4f}\")\n",
    "print(f\"MRR@10 (5000 cands):       {mrr_cand:.4f}\")\n",
    "print(f\"NDCG@10 (5000 cands):      {ndcg_cand:.4f}\")\n"
   ]
  },
  {
   "cell_type": "markdown",
   "metadata": {},
   "source": [
    "# 11. Example for user"
   ]
  },
  {
   "cell_type": "code",
   "execution_count": 19,
   "metadata": {},
   "outputs": [
    {
     "name": "stdout",
     "output_type": "stream",
     "text": [
      "Top-10 recommendations for user 123\n",
      " 1. [178529] Numb\n",
      " 2. [2758009] The Show Must Go On\n",
      " 3. [6705392] Seven Nation Army\n",
      " 4. [48951] It's My Life\n",
      " 5. [560473] Полковнику никто не пишет\n",
      " 6. [17352611] Chandelier\n",
      " 7. [628970] I Hate Everything About You\n",
      " 8. [14690772] Dark Horse\n",
      " 9. [82036283] Seven Nation Army\n",
      "10. [60292250] Blinding Lights\n"
     ]
    }
   ],
   "source": [
    "# keep only track names\n",
    "track_names = catalog[catalog['type'] == 'track'].set_index('id')['name'].to_dict()\n",
    "\n",
    "# reverse mapping from internal idx -> original track_id\n",
    "idx2track = {v: k for k, v in item2idx.items()}\n",
    "\n",
    "def recommend_top10(model, user_id, user2idx, idx2track, track_names, num_items, device='cpu'):\n",
    "    \"\"\"\n",
    "    Return top-10 track names for a given user_id.\n",
    "    \"\"\"\n",
    "    model.eval()\n",
    "    u_idx = user2idx.get(user_id, None)\n",
    "    if u_idx is None:\n",
    "        raise ValueError(f\"Unknown user_id {user_id}\")\n",
    "    # prepare tensor: repeat user index num_items times\n",
    "    users = torch.full((num_items,), u_idx, dtype=torch.long, device=device)\n",
    "    items = torch.arange(num_items, dtype=torch.long, device=device)\n",
    "    with torch.no_grad():\n",
    "        scores = model(users, items)\n",
    "    # get top-10 item indices\n",
    "    topk = torch.topk(scores, 10).indices.cpu().numpy()\n",
    "    # map back to track_ids and names\n",
    "    recommendations = []\n",
    "    for rank, idx in enumerate(topk, start=1):\n",
    "        track_id = idx2track[idx]\n",
    "        name = track_names.get(track_id, \"Unknown\")\n",
    "        recommendations.append((rank, track_id, name))\n",
    "    return recommendations\n",
    "\n",
    "device = torch.device('cuda' if torch.cuda.is_available() else 'cpu')\n",
    "model.to(device)\n",
    "\n",
    "user_id = 123   \n",
    "top10 = recommend_top10(\n",
    "    model, user_id,\n",
    "    user2idx, idx2track, track_names,\n",
    "    num_items, device=device\n",
    ")\n",
    "\n",
    "print(\"Top-10 recommendations for user\", user_id)\n",
    "for rank, track_id, name in top10:\n",
    "    print(f\"{rank:2d}. [{track_id}] {name}\")"
   ]
  },
  {
   "cell_type": "markdown",
   "metadata": {},
   "source": [
    "\n",
    "# 12. Save the final model"
   ]
  },
  {
   "cell_type": "code",
   "execution_count": 20,
   "metadata": {},
   "outputs": [
    {
     "name": "stdout",
     "output_type": "stream",
     "text": [
      "Model saved to NMF.pt\n"
     ]
    }
   ],
   "source": [
    "torch.save(model.state_dict(), \"NMF.pt\")\n",
    "print(\"Model saved to NMF.pt\")"
   ]
  }
 ],
 "metadata": {
  "kernelspec": {
   "display_name": "Python 3",
   "language": "python",
   "name": "python3"
  },
  "language_info": {
   "codemirror_mode": {
    "name": "ipython",
    "version": 3
   },
   "file_extension": ".py",
   "mimetype": "text/x-python",
   "name": "python",
   "nbconvert_exporter": "python",
   "pygments_lexer": "ipython3",
   "version": "3.11.4"
  }
 },
 "nbformat": 4,
 "nbformat_minor": 4
}
