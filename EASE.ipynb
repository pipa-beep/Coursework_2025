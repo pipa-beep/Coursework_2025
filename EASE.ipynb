{
 "cells": [
  {
   "cell_type": "markdown",
   "metadata": {},
   "source": [
    "# Cell 1: Imports & Data Loading"
   ]
  },
  {
   "cell_type": "code",
   "execution_count": 1,
   "metadata": {},
   "outputs": [],
   "source": [
    "import numpy as np\n",
    "import pandas as pd\n",
    "from scipy.sparse import csr_matrix\n",
    "import matplotlib.pyplot as plt\n",
    "import pickle"
   ]
  },
  {
   "cell_type": "code",
   "execution_count": 2,
   "metadata": {},
   "outputs": [],
   "source": [
    "interactions = pd.read_parquet(\"interactions_new.parquet\")\n",
    "tracks = pd.read_parquet(\"tracks.parquet\")\n",
    "catalog = pd.read_parquet(\"catalog_names.parquet\")"
   ]
  },
  {
   "cell_type": "code",
   "execution_count": 3,
   "metadata": {},
   "outputs": [
    {
     "name": "stdout",
     "output_type": "stream",
     "text": [
      "Interactions: 200000 rows\n",
      "Tracks:       1000000 rows\n",
      "Catalog:      1812471 rows\n"
     ]
    }
   ],
   "source": [
    "print(f\"Interactions: {len(interactions)} rows\")\n",
    "print(f\"Tracks:       {len(tracks)} rows\")\n",
    "print(f\"Catalog:      {len(catalog)} rows\")"
   ]
  },
  {
   "cell_type": "code",
   "execution_count": 4,
   "metadata": {},
   "outputs": [
    {
     "data": {
      "text/html": [
       "<div>\n",
       "<style scoped>\n",
       "    .dataframe tbody tr th:only-of-type {\n",
       "        vertical-align: middle;\n",
       "    }\n",
       "\n",
       "    .dataframe tbody tr th {\n",
       "        vertical-align: top;\n",
       "    }\n",
       "\n",
       "    .dataframe thead th {\n",
       "        text-align: right;\n",
       "    }\n",
       "</style>\n",
       "<table border=\"1\" class=\"dataframe\">\n",
       "  <thead>\n",
       "    <tr style=\"text-align: right;\">\n",
       "      <th></th>\n",
       "      <th>user_id</th>\n",
       "      <th>track_id</th>\n",
       "      <th>track_seq</th>\n",
       "      <th>started_at</th>\n",
       "    </tr>\n",
       "  </thead>\n",
       "  <tbody>\n",
       "    <tr>\n",
       "      <th>9</th>\n",
       "      <td>1147</td>\n",
       "      <td>60164742</td>\n",
       "      <td>10</td>\n",
       "      <td>2022-12-10</td>\n",
       "    </tr>\n",
       "    <tr>\n",
       "      <th>10</th>\n",
       "      <td>1147</td>\n",
       "      <td>60441330</td>\n",
       "      <td>11</td>\n",
       "      <td>2022-12-13</td>\n",
       "    </tr>\n",
       "    <tr>\n",
       "      <th>11</th>\n",
       "      <td>1147</td>\n",
       "      <td>60715380</td>\n",
       "      <td>12</td>\n",
       "      <td>2022-12-19</td>\n",
       "    </tr>\n",
       "    <tr>\n",
       "      <th>12</th>\n",
       "      <td>1147</td>\n",
       "      <td>61693507</td>\n",
       "      <td>13</td>\n",
       "      <td>2022-12-21</td>\n",
       "    </tr>\n",
       "    <tr>\n",
       "      <th>13</th>\n",
       "      <td>1147</td>\n",
       "      <td>61835292</td>\n",
       "      <td>14</td>\n",
       "      <td>2022-12-21</td>\n",
       "    </tr>\n",
       "  </tbody>\n",
       "</table>\n",
       "</div>"
      ],
      "text/plain": [
       "    user_id  track_id  track_seq started_at\n",
       "9      1147  60164742         10 2022-12-10\n",
       "10     1147  60441330         11 2022-12-13\n",
       "11     1147  60715380         12 2022-12-19\n",
       "12     1147  61693507         13 2022-12-21\n",
       "13     1147  61835292         14 2022-12-21"
      ]
     },
     "execution_count": 4,
     "metadata": {},
     "output_type": "execute_result"
    }
   ],
   "source": [
    "interactions.tail()"
   ]
  },
  {
   "cell_type": "code",
   "execution_count": 5,
   "metadata": {},
   "outputs": [
    {
     "data": {
      "text/html": [
       "<div>\n",
       "<style scoped>\n",
       "    .dataframe tbody tr th:only-of-type {\n",
       "        vertical-align: middle;\n",
       "    }\n",
       "\n",
       "    .dataframe tbody tr th {\n",
       "        vertical-align: top;\n",
       "    }\n",
       "\n",
       "    .dataframe thead th {\n",
       "        text-align: right;\n",
       "    }\n",
       "</style>\n",
       "<table border=\"1\" class=\"dataframe\">\n",
       "  <thead>\n",
       "    <tr style=\"text-align: right;\">\n",
       "      <th></th>\n",
       "      <th>track_id</th>\n",
       "      <th>albums</th>\n",
       "      <th>artists</th>\n",
       "      <th>genres</th>\n",
       "    </tr>\n",
       "  </thead>\n",
       "  <tbody>\n",
       "    <tr>\n",
       "      <th>0</th>\n",
       "      <td>26</td>\n",
       "      <td>[3, 2490753]</td>\n",
       "      <td>[16]</td>\n",
       "      <td>[11, 21]</td>\n",
       "    </tr>\n",
       "    <tr>\n",
       "      <th>1</th>\n",
       "      <td>38</td>\n",
       "      <td>[3, 2490753]</td>\n",
       "      <td>[16]</td>\n",
       "      <td>[11, 21]</td>\n",
       "    </tr>\n",
       "    <tr>\n",
       "      <th>2</th>\n",
       "      <td>135</td>\n",
       "      <td>[12, 214, 2490809]</td>\n",
       "      <td>[84]</td>\n",
       "      <td>[11]</td>\n",
       "    </tr>\n",
       "    <tr>\n",
       "      <th>3</th>\n",
       "      <td>136</td>\n",
       "      <td>[12, 214, 2490809]</td>\n",
       "      <td>[84]</td>\n",
       "      <td>[11]</td>\n",
       "    </tr>\n",
       "    <tr>\n",
       "      <th>4</th>\n",
       "      <td>138</td>\n",
       "      <td>[12, 214, 322, 72275, 72292, 91199, 213505, 24...</td>\n",
       "      <td>[84]</td>\n",
       "      <td>[11]</td>\n",
       "    </tr>\n",
       "  </tbody>\n",
       "</table>\n",
       "</div>"
      ],
      "text/plain": [
       "   track_id                                             albums artists  \\\n",
       "0        26                                       [3, 2490753]    [16]   \n",
       "1        38                                       [3, 2490753]    [16]   \n",
       "2       135                                 [12, 214, 2490809]    [84]   \n",
       "3       136                                 [12, 214, 2490809]    [84]   \n",
       "4       138  [12, 214, 322, 72275, 72292, 91199, 213505, 24...    [84]   \n",
       "\n",
       "     genres  \n",
       "0  [11, 21]  \n",
       "1  [11, 21]  \n",
       "2      [11]  \n",
       "3      [11]  \n",
       "4      [11]  "
      ]
     },
     "execution_count": 5,
     "metadata": {},
     "output_type": "execute_result"
    }
   ],
   "source": [
    "tracks.head()"
   ]
  },
  {
   "cell_type": "code",
   "execution_count": 6,
   "metadata": {},
   "outputs": [
    {
     "data": {
      "text/html": [
       "<div>\n",
       "<style scoped>\n",
       "    .dataframe tbody tr th:only-of-type {\n",
       "        vertical-align: middle;\n",
       "    }\n",
       "\n",
       "    .dataframe tbody tr th {\n",
       "        vertical-align: top;\n",
       "    }\n",
       "\n",
       "    .dataframe thead th {\n",
       "        text-align: right;\n",
       "    }\n",
       "</style>\n",
       "<table border=\"1\" class=\"dataframe\">\n",
       "  <thead>\n",
       "    <tr style=\"text-align: right;\">\n",
       "      <th></th>\n",
       "      <th>id</th>\n",
       "      <th>type</th>\n",
       "      <th>name</th>\n",
       "    </tr>\n",
       "  </thead>\n",
       "  <tbody>\n",
       "    <tr>\n",
       "      <th>0</th>\n",
       "      <td>3</td>\n",
       "      <td>album</td>\n",
       "      <td>Taller Children</td>\n",
       "    </tr>\n",
       "    <tr>\n",
       "      <th>1</th>\n",
       "      <td>12</td>\n",
       "      <td>album</td>\n",
       "      <td>Wild Young Hearts</td>\n",
       "    </tr>\n",
       "    <tr>\n",
       "      <th>2</th>\n",
       "      <td>13</td>\n",
       "      <td>album</td>\n",
       "      <td>Lonesome Crow</td>\n",
       "    </tr>\n",
       "    <tr>\n",
       "      <th>3</th>\n",
       "      <td>17</td>\n",
       "      <td>album</td>\n",
       "      <td>Graffiti Soul</td>\n",
       "    </tr>\n",
       "    <tr>\n",
       "      <th>4</th>\n",
       "      <td>26</td>\n",
       "      <td>album</td>\n",
       "      <td>Blues Six Pack</td>\n",
       "    </tr>\n",
       "  </tbody>\n",
       "</table>\n",
       "</div>"
      ],
      "text/plain": [
       "   id   type               name\n",
       "0   3  album    Taller Children\n",
       "1  12  album  Wild Young Hearts\n",
       "2  13  album      Lonesome Crow\n",
       "3  17  album      Graffiti Soul\n",
       "4  26  album     Blues Six Pack"
      ]
     },
     "execution_count": 6,
     "metadata": {},
     "output_type": "execute_result"
    }
   ],
   "source": [
    "catalog.head()"
   ]
  },
  {
   "cell_type": "code",
   "execution_count": 7,
   "metadata": {},
   "outputs": [
    {
     "name": "stdout",
     "output_type": "stream",
     "text": [
      "\n",
      "Missing values per column in interactions_new:\n",
      "user_id       0\n",
      "track_id      0\n",
      "track_seq     0\n",
      "started_at    0\n",
      "dtype: int64\n",
      "\n",
      "Missing values per column in tracks:\n",
      "track_id    0\n",
      "albums      0\n",
      "artists     0\n",
      "genres      0\n",
      "dtype: int64\n",
      "\n",
      "Missing values per column in catalog_names:\n",
      "id      0\n",
      "type    0\n",
      "name    0\n",
      "dtype: int64\n"
     ]
    }
   ],
   "source": [
    "print(\"\\nMissing values per column in interactions_new:\")\n",
    "print(interactions.isnull().sum())\n",
    "print(\"\\nMissing values per column in tracks:\")\n",
    "print(tracks.isnull().sum())\n",
    "print(\"\\nMissing values per column in catalog_names:\")\n",
    "print(catalog.isnull().sum())"
   ]
  },
  {
   "cell_type": "markdown",
   "metadata": {},
   "source": [
    "# 2. Select Top-N Tracks & Build Sparse Interaction Matrix"
   ]
  },
  {
   "cell_type": "code",
   "execution_count": 8,
   "metadata": {},
   "outputs": [
    {
     "name": "stdout",
     "output_type": "stream",
     "text": [
      "Built interaction matrix X with shape (1129, 15000)\n"
     ]
    }
   ],
   "source": [
    "#  N\n",
    "top_N = 15000\n",
    "\n",
    "# Find top-N popular tracks\n",
    "track_popularity = interactions['track_id'].value_counts()\n",
    "top_tracks = track_popularity.head(top_N).index.tolist()\n",
    "\n",
    "# Keep only those interactions\n",
    "df_small = interactions[interactions['track_id'].isin(top_tracks)].copy()\n",
    "\n",
    "# Build mappings from raw IDs to matrix indices\n",
    "user_ids  = df_small['user_id'].unique()\n",
    "track_ids = top_tracks\n",
    "\n",
    "user_map  = {u: i for i, u in enumerate(user_ids)}\n",
    "track_map = {t: i for i, t in enumerate(track_ids)}\n",
    "\n",
    "# Build CSR matrix X (users × tracks)\n",
    "rows = df_small['user_id'].map(user_map)\n",
    "cols = df_small['track_id'].map(track_map)\n",
    "data = np.ones(len(df_small), dtype=np.float32)\n",
    "\n",
    "X = csr_matrix((data, (rows, cols)), shape=(len(user_ids), len(track_ids)))\n",
    "print(f\"Built interaction matrix X with shape {X.shape}\")\n"
   ]
  },
  {
   "cell_type": "markdown",
   "metadata": {},
   "source": [
    "# 3. Leave-One-Out Split & EASE Training"
   ]
  },
  {
   "cell_type": "code",
   "execution_count": 9,
   "metadata": {},
   "outputs": [],
   "source": [
    "def loo_split(X):\n",
    "    X_train = X.copy().tolil()\n",
    "    X_test  = csr_matrix(X.shape, dtype=np.float32).tolil()\n",
    "    for u in range(X.shape[0]):\n",
    "        items = X[u].nonzero()[1]\n",
    "        if len(items) == 0:\n",
    "            continue\n",
    "        hold = np.random.choice(items)\n",
    "        X_train[u, hold] = 0\n",
    "        X_test[u, hold]  = 1\n",
    "    return X_train.tocsr(), X_test.tocsr()\n",
    "\n",
    "def train_ease(X_train, l2_reg=300.0):\n",
    "    G = X_train.T.dot(X_train).toarray()        \n",
    "    diag_idx = np.diag_indices(G.shape[0])\n",
    "    G[diag_idx] += l2_reg\n",
    "    P = np.linalg.inv(G)\n",
    "    B = -P / np.diag(P)\n",
    "    B[diag_idx] = 0\n",
    "    return B\n"
   ]
  },
  {
   "cell_type": "markdown",
   "metadata": {},
   "source": [
    "# 4. Evaluation Metrics\n",
    "\n",
    "precision@K, recall@K, MAP@K, F1@K and NDCG@K.\n"
   ]
  },
  {
   "cell_type": "code",
   "execution_count": 10,
   "metadata": {},
   "outputs": [],
   "source": [
    "def precision_at_k(recs, X_test, k=10):\n",
    "    hits, users = 0, 0\n",
    "    for u in range(X_test.shape[0]):\n",
    "        true = set(X_test[u].nonzero()[1])\n",
    "        if not true: continue\n",
    "        pred = set(recs[u])\n",
    "        hits += len(true & pred) / k\n",
    "        users += 1\n",
    "    return hits / users\n",
    "\n",
    "def recall_at_k(recs, X_test, k=10):\n",
    "    hits, users = 0, 0\n",
    "    for u in range(X_test.shape[0]):\n",
    "        true = set(X_test[u].nonzero()[1])\n",
    "        if not true: continue\n",
    "        pred = set(recs[u])\n",
    "        hits += len(true & pred) / min(len(true), k)\n",
    "        users += 1\n",
    "    return hits / users\n",
    "\n",
    "def map_at_k(recs, X_test, k=10):\n",
    "    total_map, users = 0, 0\n",
    "    for u in range(X_test.shape[0]):\n",
    "        true = set(X_test[u].nonzero()[1])\n",
    "        if not true: continue\n",
    "        score, hits = 0, 0\n",
    "        for rank, it in enumerate(recs[u], 1):\n",
    "            if it in true:\n",
    "                hits += 1\n",
    "                score += hits / rank\n",
    "        total_map += score / min(len(true), k) if hits>0 else 0\n",
    "        users += 1\n",
    "    return total_map / users\n",
    "\n",
    "def f1_at_k(recs, X_test, k=10):\n",
    "    p = precision_at_k(recs, X_test, k)\n",
    "    r = recall_at_k(recs, X_test, k)\n",
    "    return 2 * p * r / (p + r) if (p + r) > 0 else 0\n",
    "\n",
    "def ndcg_at_k(recs, X_test, k=10):\n",
    "    total, users = 0, 0\n",
    "    for u in range(X_test.shape[0]):\n",
    "        true = set(X_test[u].nonzero()[1])\n",
    "        if not true: continue\n",
    "        dcg = 0\n",
    "        for rank, it in enumerate(recs[u], 1):\n",
    "            if it in true:\n",
    "                dcg += 1 / np.log2(rank + 1)\n",
    "        idcg = sum(1/np.log2(i+1) for i in range(1, min(len(true),k)+1))\n",
    "        total += (dcg/idcg if idcg>0 else 0)\n",
    "        users += 1\n",
    "    return total / users\n"
   ]
  },
  {
   "cell_type": "markdown",
   "metadata": {},
   "source": [
    "# 5. Training"
   ]
  },
  {
   "cell_type": "code",
   "execution_count": 11,
   "metadata": {},
   "outputs": [],
   "source": [
    "X_train, X_test = loo_split(X)\n",
    "\n",
    "# Train a EASE model\n",
    "l2_reg = 200.0\n",
    "B = train_ease(X_train, l2_reg)\n",
    "\n",
    "# Score & recommend\n",
    "scores = X_train.dot(B)\n",
    "scores[X_train.nonzero()] = -np.inf\n",
    "recs   = np.argsort(-scores, axis=1)[:, :10]"
   ]
  },
  {
   "cell_type": "markdown",
   "metadata": {},
   "source": [
    "# 6. Computing metrics"
   ]
  },
  {
   "cell_type": "code",
   "execution_count": 12,
   "metadata": {},
   "outputs": [
    {
     "name": "stdout",
     "output_type": "stream",
     "text": [
      "Results for l2 = 200.0:\n",
      "  Precision@10: 0.0081\n",
      "  Recall@10:    0.0806\n",
      "  MAP@10:       0.0323\n",
      "  F1@10:        0.0147\n",
      "  NDCG@10:      0.0436\n"
     ]
    }
   ],
   "source": [
    "prec = precision_at_k(recs, X_test, 10)\n",
    "rec  = recall_at_k(recs, X_test, 10)\n",
    "mapk = map_at_k(recs, X_test, 10)\n",
    "f1   = f1_at_k(recs, X_test, 10)\n",
    "ndcg = ndcg_at_k(recs, X_test, 10)\n",
    "\n",
    "print(f\"Results for l2 = {l2_reg}:\")\n",
    "print(f\"  Precision@10: {prec:.4f}\")\n",
    "print(f\"  Recall@10:    {rec:.4f}\")\n",
    "print(f\"  MAP@10:       {mapk:.4f}\")\n",
    "print(f\"  F1@10:        {f1:.4f}\")\n",
    "print(f\"  NDCG@10:      {ndcg:.4f}\")"
   ]
  },
  {
   "cell_type": "markdown",
   "metadata": {},
   "source": [
    "# 7. Example for user 0"
   ]
  },
  {
   "cell_type": "code",
   "execution_count": 17,
   "metadata": {},
   "outputs": [
    {
     "name": "stdout",
     "output_type": "stream",
     "text": [
      "Top-10 recommendations for user 124\n",
      " 1. [24692821] Way Down We Go\n",
      " 2. [78426489] Rampampam\n",
      " 3. [29569939] Tuesday\n",
      " 4. [24663745] Ocean Drive\n",
      " 5. [19200822] Imagination\n",
      " 6. [17902234] Prayer in C\n",
      " 7. [40330534] In the End\n",
      " 8. [6679078] Intro\n",
      " 9. [83698212] Rampampam\n",
      "10. [55291388] Улетай на крыльях ветра\n"
     ]
    }
   ],
   "source": [
    "track_name_map = catalog[catalog['type'] == 'track'].set_index('id')['name'].to_dict()\n",
    "\n",
    "# Choose user (можно заменить 0 на нужный user_idx из user_ids)\n",
    "user_idx = 123\n",
    "user_id = user_ids[user_idx]  \n",
    "\n",
    "# Get held-out and predicted items\n",
    "held_idx = X_test[user_idx].nonzero()[1]\n",
    "held_track_ids = [track_ids[i] for i in held_idx]\n",
    "\n",
    "pred_idx = recs[user_idx]\n",
    "pred_track_ids = [track_ids[i] for i in pred_idx]\n",
    "\n",
    "# Print formatted recommendations\n",
    "print(f\"Top-10 recommendations for user {user_id}\")\n",
    "for rank, tid in enumerate(pred_track_ids, start=1):\n",
    "    name = track_name_map.get(tid, \"Unknown\")\n",
    "    print(f\"{rank:2d}. [{tid}] {name}\")"
   ]
  },
  {
   "cell_type": "markdown",
   "metadata": {},
   "source": [
    "\n",
    "# 8. Save the final model"
   ]
  },
  {
   "cell_type": "code",
   "execution_count": 18,
   "metadata": {},
   "outputs": [
    {
     "name": "stdout",
     "output_type": "stream",
     "text": [
      "Model saved to ease_model.pkl\n"
     ]
    }
   ],
   "source": [
    "with open('ease_model.pkl', 'wb') as f:\n",
    "    pickle.dump({\n",
    "        'B': B,\n",
    "        'user_map':  user_map,\n",
    "        'track_map': track_map,\n",
    "        'track_ids': track_ids\n",
    "    }, f)\n",
    "print(\"Model saved to ease_model.pkl\")"
   ]
  },
  {
   "cell_type": "code",
   "execution_count": null,
   "metadata": {},
   "outputs": [],
   "source": []
  }
 ],
 "metadata": {
  "kernelspec": {
   "display_name": "Python 3",
   "language": "python",
   "name": "python3"
  },
  "language_info": {
   "codemirror_mode": {
    "name": "ipython",
    "version": 3
   },
   "file_extension": ".py",
   "mimetype": "text/x-python",
   "name": "python",
   "nbconvert_exporter": "python",
   "pygments_lexer": "ipython3",
   "version": "3.11.4"
  }
 },
 "nbformat": 4,
 "nbformat_minor": 4
}
